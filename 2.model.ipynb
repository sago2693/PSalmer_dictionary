{
 "cells": [
  {
   "cell_type": "code",
   "execution_count": 9,
   "metadata": {},
   "outputs": [],
   "source": [
    "import pandas as pd\n",
    "import numpy as np\n",
    "from sklearn.feature_extraction.text import CountVectorizer\n",
    "import seaborn as sns\n",
    "import matplotlib.pyplot as plt"
   ]
  },
  {
   "cell_type": "code",
   "execution_count": 2,
   "metadata": {},
   "outputs": [],
   "source": [
    "df = pd.read_excel(\"preprocessed.xlsx\")"
   ]
  },
  {
   "cell_type": "code",
   "execution_count": 3,
   "metadata": {},
   "outputs": [],
   "source": [
    "def vectorize_and_filter(vects, vect):\n",
    "\n",
    "    td= pd.DataFrame(vects.todense()) \n",
    "    td.columns = vect.get_feature_names_out()\n",
    "    term_document_matrix = td.T\n",
    "    term_document_matrix['Sum']=np.count_nonzero(term_document_matrix, axis=1)\n",
    "    term_document_matrix['Count']=np.count_nonzero(term_document_matrix, axis=1)-1\n",
    "    term_document_matrix[\"Group\"] = term_document_matrix['Count'].apply(lambda x: 1 if x<=3 else 2)\n",
    "    term_document_matrix.query(\"Count>1\",inplace=True)\n",
    "    return term_document_matrix\n",
    "    \n",
    "\n",
    "#Function for any given manuscript\n",
    "def return_term_document_matrices(manuscript_letter):\n",
    "    #Filter one manuscript\n",
    "\n",
    "    # Count Vectorizer\n",
    "    vect_english = CountVectorizer()  \n",
    "    vects_english = vect_english.fit_transform( df[df.book==manuscript_letter].english_lemma)\n",
    "\n",
    "    # Count Vectorizer\n",
    "    vect_latin = CountVectorizer()  \n",
    "    vects_latin = vect_latin.fit_transform( df[df.book==manuscript_letter].latin_lemma)\n",
    "\n",
    "    term_document_matrix_english = vectorize_and_filter(vects_english,vect_english)\n",
    "    term_document_matrix_latin = vectorize_and_filter(vects_latin,vect_latin)\n",
    "    \n",
    "    return term_document_matrix_english, term_document_matrix_latin\n"
   ]
  },
  {
   "cell_type": "code",
   "execution_count": 4,
   "metadata": {},
   "outputs": [],
   "source": [
    "dict_td_matrices = {}\n",
    "for letter in df.book.unique():\n",
    "    dict_td_matrices[letter] = return_term_document_matrices(letter)\n",
    "#Create dictionary of tuples"
   ]
  },
  {
   "cell_type": "code",
   "execution_count": 5,
   "metadata": {},
   "outputs": [],
   "source": [
    "#Determine group size based on reference manuscripts: A, H, L N\n",
    "and_td_a, lat_td_a = dict_td_matrices[\"A\"]\n",
    "and_td_h, lat_td_h = dict_td_matrices[\"H\"]\n",
    "and_td_l, lat_td_l = dict_td_matrices[\"L\"]\n",
    "and_td_n, lat_td_n = dict_td_matrices[\"N\"]"
   ]
  },
  {
   "cell_type": "code",
   "execution_count": 20,
   "metadata": {},
   "outputs": [],
   "source": []
  },
  {
   "cell_type": "code",
   "execution_count": 23,
   "metadata": {},
   "outputs": [
    {
     "data": {
      "text/plain": [
       "[Text(0.5, 1.0, 'DF Log scale, less than 100 docs')]"
      ]
     },
     "execution_count": 23,
     "metadata": {},
     "output_type": "execute_result"
    },
    {
     "data": {
      "image/png": "[encoded data removed]",
      "text/plain": [
       "<Figure size 432x288 with 1 Axes>"
      ]
     },
     "metadata": {
      "needs_background": "light"
     },
     "output_type": "display_data"
    }
   ],
   "source": [
    "ax = sns.histplot(data = and_td_a.query(\"Count<=100\"), x=\"Count\",log_scale=(False,True)).set(title=\"histogram\")\n",
    "plt.xlabel('Document frequency')\n",
    "plt.xlabel('Log count')\n",
    "plt.title('DF Log scale, less than 100 docs')\n",
    "ax"
   ]
  },
  {
   "cell_type": "code",
   "execution_count": 10,
   "metadata": {},
   "outputs": [
    {
     "data": {
      "text/html": [
       "<div>\n",
       "<style scoped>\n",
       "    .dataframe tbody tr th:only-of-type {\n",
       "        vertical-align: middle;\n",
       "    }\n",
       "\n",
       "    .dataframe tbody tr th {\n",
       "        vertical-align: top;\n",
       "    }\n",
       "\n",
       "    .dataframe thead th {\n",
       "        text-align: right;\n",
       "    }\n",
       "</style>\n",
       "<table border=\"1\" class=\"dataframe\">\n",
       "  <thead>\n",
       "    <tr style=\"text-align: right;\">\n",
       "      <th></th>\n",
       "      <th>0</th>\n",
       "      <th>1</th>\n",
       "      <th>2</th>\n",
       "      <th>3</th>\n",
       "      <th>4</th>\n",
       "      <th>5</th>\n",
       "      <th>6</th>\n",
       "      <th>7</th>\n",
       "      <th>8</th>\n",
       "      <th>9</th>\n",
       "      <th>...</th>\n",
       "      <th>2402</th>\n",
       "      <th>2403</th>\n",
       "      <th>2404</th>\n",
       "      <th>2405</th>\n",
       "      <th>2406</th>\n",
       "      <th>2407</th>\n",
       "      <th>2408</th>\n",
       "      <th>Sum</th>\n",
       "      <th>Count</th>\n",
       "      <th>Group</th>\n",
       "    </tr>\n",
       "  </thead>\n",
       "  <tbody>\n",
       "    <tr>\n",
       "      <th>aa</th>\n",
       "      <td>0</td>\n",
       "      <td>0</td>\n",
       "      <td>0</td>\n",
       "      <td>0</td>\n",
       "      <td>0</td>\n",
       "      <td>0</td>\n",
       "      <td>0</td>\n",
       "      <td>0</td>\n",
       "      <td>0</td>\n",
       "      <td>0</td>\n",
       "      <td>...</td>\n",
       "      <td>0</td>\n",
       "      <td>0</td>\n",
       "      <td>0</td>\n",
       "      <td>0</td>\n",
       "      <td>0</td>\n",
       "      <td>0</td>\n",
       "      <td>0</td>\n",
       "      <td>25</td>\n",
       "      <td>25</td>\n",
       "      <td>2</td>\n",
       "    </tr>\n",
       "    <tr>\n",
       "      <th>aaron</th>\n",
       "      <td>0</td>\n",
       "      <td>0</td>\n",
       "      <td>0</td>\n",
       "      <td>0</td>\n",
       "      <td>0</td>\n",
       "      <td>0</td>\n",
       "      <td>0</td>\n",
       "      <td>0</td>\n",
       "      <td>0</td>\n",
       "      <td>0</td>\n",
       "      <td>...</td>\n",
       "      <td>0</td>\n",
       "      <td>0</td>\n",
       "      <td>0</td>\n",
       "      <td>0</td>\n",
       "      <td>0</td>\n",
       "      <td>0</td>\n",
       "      <td>0</td>\n",
       "      <td>4</td>\n",
       "      <td>4</td>\n",
       "      <td>2</td>\n",
       "    </tr>\n",
       "    <tr>\n",
       "      <th>aarones</th>\n",
       "      <td>0</td>\n",
       "      <td>0</td>\n",
       "      <td>0</td>\n",
       "      <td>0</td>\n",
       "      <td>0</td>\n",
       "      <td>0</td>\n",
       "      <td>0</td>\n",
       "      <td>0</td>\n",
       "      <td>0</td>\n",
       "      <td>0</td>\n",
       "      <td>...</td>\n",
       "      <td>0</td>\n",
       "      <td>0</td>\n",
       "      <td>0</td>\n",
       "      <td>0</td>\n",
       "      <td>0</td>\n",
       "      <td>0</td>\n",
       "      <td>0</td>\n",
       "      <td>3</td>\n",
       "      <td>3</td>\n",
       "      <td>1</td>\n",
       "    </tr>\n",
       "    <tr>\n",
       "      <th>abad</th>\n",
       "      <td>0</td>\n",
       "      <td>0</td>\n",
       "      <td>0</td>\n",
       "      <td>0</td>\n",
       "      <td>0</td>\n",
       "      <td>0</td>\n",
       "      <td>0</td>\n",
       "      <td>0</td>\n",
       "      <td>0</td>\n",
       "      <td>0</td>\n",
       "      <td>...</td>\n",
       "      <td>0</td>\n",
       "      <td>0</td>\n",
       "      <td>0</td>\n",
       "      <td>0</td>\n",
       "      <td>0</td>\n",
       "      <td>0</td>\n",
       "      <td>0</td>\n",
       "      <td>2</td>\n",
       "      <td>2</td>\n",
       "      <td>1</td>\n",
       "    </tr>\n",
       "    <tr>\n",
       "      <th>abid</th>\n",
       "      <td>0</td>\n",
       "      <td>0</td>\n",
       "      <td>0</td>\n",
       "      <td>0</td>\n",
       "      <td>0</td>\n",
       "      <td>0</td>\n",
       "      <td>0</td>\n",
       "      <td>0</td>\n",
       "      <td>0</td>\n",
       "      <td>0</td>\n",
       "      <td>...</td>\n",
       "      <td>0</td>\n",
       "      <td>0</td>\n",
       "      <td>0</td>\n",
       "      <td>0</td>\n",
       "      <td>0</td>\n",
       "      <td>0</td>\n",
       "      <td>0</td>\n",
       "      <td>2</td>\n",
       "      <td>2</td>\n",
       "      <td>1</td>\n",
       "    </tr>\n",
       "    <tr>\n",
       "      <th>...</th>\n",
       "      <td>...</td>\n",
       "      <td>...</td>\n",
       "      <td>...</td>\n",
       "      <td>...</td>\n",
       "      <td>...</td>\n",
       "      <td>...</td>\n",
       "      <td>...</td>\n",
       "      <td>...</td>\n",
       "      <td>...</td>\n",
       "      <td>...</td>\n",
       "      <td>...</td>\n",
       "      <td>...</td>\n",
       "      <td>...</td>\n",
       "      <td>...</td>\n",
       "      <td>...</td>\n",
       "      <td>...</td>\n",
       "      <td>...</td>\n",
       "      <td>...</td>\n",
       "      <td>...</td>\n",
       "      <td>...</td>\n",
       "      <td>...</td>\n",
       "    </tr>\n",
       "    <tr>\n",
       "      <th>þurst</th>\n",
       "      <td>0</td>\n",
       "      <td>0</td>\n",
       "      <td>0</td>\n",
       "      <td>0</td>\n",
       "      <td>0</td>\n",
       "      <td>0</td>\n",
       "      <td>0</td>\n",
       "      <td>0</td>\n",
       "      <td>0</td>\n",
       "      <td>0</td>\n",
       "      <td>...</td>\n",
       "      <td>0</td>\n",
       "      <td>0</td>\n",
       "      <td>0</td>\n",
       "      <td>0</td>\n",
       "      <td>0</td>\n",
       "      <td>0</td>\n",
       "      <td>0</td>\n",
       "      <td>2</td>\n",
       "      <td>2</td>\n",
       "      <td>1</td>\n",
       "    </tr>\n",
       "    <tr>\n",
       "      <th>þusend</th>\n",
       "      <td>0</td>\n",
       "      <td>0</td>\n",
       "      <td>0</td>\n",
       "      <td>0</td>\n",
       "      <td>0</td>\n",
       "      <td>0</td>\n",
       "      <td>0</td>\n",
       "      <td>0</td>\n",
       "      <td>0</td>\n",
       "      <td>0</td>\n",
       "      <td>...</td>\n",
       "      <td>0</td>\n",
       "      <td>0</td>\n",
       "      <td>0</td>\n",
       "      <td>0</td>\n",
       "      <td>0</td>\n",
       "      <td>0</td>\n",
       "      <td>0</td>\n",
       "      <td>7</td>\n",
       "      <td>7</td>\n",
       "      <td>2</td>\n",
       "    </tr>\n",
       "    <tr>\n",
       "      <th>þwea</th>\n",
       "      <td>0</td>\n",
       "      <td>0</td>\n",
       "      <td>0</td>\n",
       "      <td>0</td>\n",
       "      <td>0</td>\n",
       "      <td>0</td>\n",
       "      <td>0</td>\n",
       "      <td>0</td>\n",
       "      <td>0</td>\n",
       "      <td>0</td>\n",
       "      <td>...</td>\n",
       "      <td>0</td>\n",
       "      <td>0</td>\n",
       "      <td>0</td>\n",
       "      <td>0</td>\n",
       "      <td>0</td>\n",
       "      <td>0</td>\n",
       "      <td>0</td>\n",
       "      <td>2</td>\n",
       "      <td>2</td>\n",
       "      <td>1</td>\n",
       "    </tr>\n",
       "    <tr>\n",
       "      <th>þweoran</th>\n",
       "      <td>0</td>\n",
       "      <td>0</td>\n",
       "      <td>0</td>\n",
       "      <td>0</td>\n",
       "      <td>0</td>\n",
       "      <td>0</td>\n",
       "      <td>0</td>\n",
       "      <td>0</td>\n",
       "      <td>0</td>\n",
       "      <td>0</td>\n",
       "      <td>...</td>\n",
       "      <td>0</td>\n",
       "      <td>0</td>\n",
       "      <td>0</td>\n",
       "      <td>0</td>\n",
       "      <td>0</td>\n",
       "      <td>0</td>\n",
       "      <td>0</td>\n",
       "      <td>2</td>\n",
       "      <td>2</td>\n",
       "      <td>1</td>\n",
       "    </tr>\n",
       "    <tr>\n",
       "      <th>ęe</th>\n",
       "      <td>0</td>\n",
       "      <td>0</td>\n",
       "      <td>0</td>\n",
       "      <td>0</td>\n",
       "      <td>0</td>\n",
       "      <td>0</td>\n",
       "      <td>0</td>\n",
       "      <td>0</td>\n",
       "      <td>0</td>\n",
       "      <td>0</td>\n",
       "      <td>...</td>\n",
       "      <td>0</td>\n",
       "      <td>0</td>\n",
       "      <td>0</td>\n",
       "      <td>0</td>\n",
       "      <td>0</td>\n",
       "      <td>0</td>\n",
       "      <td>0</td>\n",
       "      <td>6</td>\n",
       "      <td>6</td>\n",
       "      <td>2</td>\n",
       "    </tr>\n",
       "  </tbody>\n",
       "</table>\n",
       "<p>1841 rows × 2412 columns</p>\n",
       "</div>"
      ],
      "text/plain": [
       "         0  1  2  3  4  5  6  7  8  9  ...  2402  2403  2404  2405  2406  \\\n",
       "aa       0  0  0  0  0  0  0  0  0  0  ...     0     0     0     0     0   \n",
       "aaron    0  0  0  0  0  0  0  0  0  0  ...     0     0     0     0     0   \n",
       "aarones  0  0  0  0  0  0  0  0  0  0  ...     0     0     0     0     0   \n",
       "abad     0  0  0  0  0  0  0  0  0  0  ...     0     0     0     0     0   \n",
       "abid     0  0  0  0  0  0  0  0  0  0  ...     0     0     0     0     0   \n",
       "...     .. .. .. .. .. .. .. .. .. ..  ...   ...   ...   ...   ...   ...   \n",
       "þurst    0  0  0  0  0  0  0  0  0  0  ...     0     0     0     0     0   \n",
       "þusend   0  0  0  0  0  0  0  0  0  0  ...     0     0     0     0     0   \n",
       "þwea     0  0  0  0  0  0  0  0  0  0  ...     0     0     0     0     0   \n",
       "þweoran  0  0  0  0  0  0  0  0  0  0  ...     0     0     0     0     0   \n",
       "ęe       0  0  0  0  0  0  0  0  0  0  ...     0     0     0     0     0   \n",
       "\n",
       "         2407  2408  Sum  Count  Group  \n",
       "aa          0     0   25     25      2  \n",
       "aaron       0     0    4      4      2  \n",
       "aarones     0     0    3      3      1  \n",
       "abad        0     0    2      2      1  \n",
       "abid        0     0    2      2      1  \n",
       "...       ...   ...  ...    ...    ...  \n",
       "þurst       0     0    2      2      1  \n",
       "þusend      0     0    7      7      2  \n",
       "þwea        0     0    2      2      1  \n",
       "þweoran     0     0    2      2      1  \n",
       "ęe          0     0    6      6      2  \n",
       "\n",
       "[1841 rows x 2412 columns]"
      ]
     },
     "execution_count": 10,
     "metadata": {},
     "output_type": "execute_result"
    }
   ],
   "source": [
    "and_td_a"
   ]
  },
  {
   "cell_type": "code",
   "execution_count": 8,
   "metadata": {},
   "outputs": [
    {
     "data": {
      "text/plain": [
       "<AxesSubplot: >"
      ]
     },
     "execution_count": 8,
     "metadata": {},
     "output_type": "execute_result"
    },
    {
     "data": {
      "image/png": "[encoded data removed]",
      "text/plain": [
       "<Figure size 432x288 with 1 Axes>"
      ]
     },
     "metadata": {
      "needs_background": "light"
     },
     "output_type": "display_data"
    }
   ],
   "source": [
    "and_td_a.Count.hist()"
   ]
  },
  {
   "cell_type": "code",
   "execution_count": 16,
   "metadata": {},
   "outputs": [
    {
     "data": {
      "text/plain": [
       "2    820\n",
       "1    618\n",
       "Name: Group, dtype: int64"
      ]
     },
     "execution_count": 16,
     "metadata": {},
     "output_type": "execute_result"
    }
   ],
   "source": [
    "lat_td_a[\"Group\"].value_counts()"
   ]
  },
  {
   "attachments": {},
   "cell_type": "markdown",
   "metadata": {},
   "source": [
    "Validate through relative cumulative frequencies how to group words with a similar amount of mentions"
   ]
  },
  {
   "cell_type": "code",
   "execution_count": 17,
   "metadata": {},
   "outputs": [
    {
     "data": {
      "text/plain": [
       "2      0.365562\n",
       "3      0.166757\n",
       "4      0.098316\n",
       "5      0.065725\n",
       "6      0.041282\n",
       "         ...   \n",
       "93     0.000543\n",
       "219    0.000543\n",
       "131    0.000543\n",
       "216    0.000543\n",
       "504    0.000543\n",
       "Name: Count, Length: 83, dtype: float64"
      ]
     },
     "execution_count": 17,
     "metadata": {},
     "output_type": "execute_result"
    }
   ],
   "source": [
    "and_td_a[\"Count\"].value_counts()/len(and_td_a)"
   ]
  },
  {
   "cell_type": "code",
   "execution_count": 18,
   "metadata": {},
   "outputs": [],
   "source": [
    "#This does not work anymore as the Count is now filtered in the method\n",
    "# Filter count 1 and calculate again\n",
    "and_td_a_filt = and_td_a.query(\"Count>1\")\n",
    "lat_td_a_filt = lat_td_a.query(\"Count>1\")\n",
    "\n",
    "# Filter count 1 and calculate again\n",
    "and_td_h_filt = and_td_h.query(\"Count>1\")\n",
    "lat_td_h_filt = lat_td_h.query(\"Count>1\")\n",
    "\n",
    "# Filter count 1 and calculate again\n",
    "and_td_l_filt = and_td_l.query(\"Count>1\")\n",
    "lat_td_l_filt = lat_td_l.query(\"Count>1\")\n",
    "\n",
    "# Filter count 1 and calculate again\n",
    "and_td_n_filt = and_td_n.query(\"Count>1\")\n",
    "lat_td_n_filt = lat_td_n.query(\"Count>1\")"
   ]
  },
  {
   "cell_type": "code",
   "execution_count": 20,
   "metadata": {},
   "outputs": [],
   "source": [
    "#First Idea: count 2 and 3 one group, others, another group"
   ]
  },
  {
   "cell_type": "code",
   "execution_count": 22,
   "metadata": {},
   "outputs": [
    {
     "data": {
      "text/plain": [
       "2    0.293463\n",
       "3    0.136300\n",
       "4    0.109875\n",
       "5    0.066759\n",
       "6    0.052851\n",
       "Name: Count, dtype: float64"
      ]
     },
     "execution_count": 22,
     "metadata": {},
     "output_type": "execute_result"
    }
   ],
   "source": [
    "lat_td_a_filt[\"Count\"].value_counts().iloc[:5]/len(lat_td_a_filt) # ok"
   ]
  },
  {
   "cell_type": "code",
   "execution_count": 23,
   "metadata": {},
   "outputs": [
    {
     "data": {
      "text/plain": [
       "2    0.288941\n",
       "3    0.164330\n",
       "4    0.102804\n",
       "5    0.073988\n",
       "6    0.056075\n",
       "Name: Count, dtype: float64"
      ]
     },
     "execution_count": 23,
     "metadata": {},
     "output_type": "execute_result"
    }
   ],
   "source": [
    "lat_td_h_filt[\"Count\"].value_counts().iloc[:5]/len(lat_td_h_filt) # ok"
   ]
  },
  {
   "cell_type": "code",
   "execution_count": 24,
   "metadata": {},
   "outputs": [
    {
     "data": {
      "text/plain": [
       "2    0.386010\n",
       "3    0.181347\n",
       "4    0.082902\n",
       "6    0.059585\n",
       "5    0.056995\n",
       "Name: Count, dtype: float64"
      ]
     },
     "execution_count": 24,
     "metadata": {},
     "output_type": "execute_result"
    }
   ],
   "source": [
    "lat_td_l_filt[\"Count\"].value_counts().iloc[:5]/len(lat_td_l_filt) # ok"
   ]
  },
  {
   "cell_type": "code",
   "execution_count": 25,
   "metadata": {},
   "outputs": [
    {
     "data": {
      "text/plain": [
       "2    0.428571\n",
       "3    0.285714\n",
       "5    0.095238\n",
       "4    0.095238\n",
       "8    0.047619\n",
       "Name: Count, dtype: float64"
      ]
     },
     "execution_count": 25,
     "metadata": {},
     "output_type": "execute_result"
    }
   ],
   "source": [
    "lat_td_n_filt[\"Count\"].value_counts().iloc[:5]/len(lat_td_n_filt) # ok"
   ]
  },
  {
   "cell_type": "code",
   "execution_count": 26,
   "metadata": {},
   "outputs": [
    {
     "data": {
      "text/plain": [
       "2    0.365562\n",
       "3    0.166757\n",
       "4    0.098316\n",
       "5    0.065725\n",
       "6    0.041282\n",
       "Name: Count, dtype: float64"
      ]
     },
     "execution_count": 26,
     "metadata": {},
     "output_type": "execute_result"
    }
   ],
   "source": [
    "and_td_a_filt[\"Count\"].value_counts().iloc[:5]/len(and_td_a_filt) #ok"
   ]
  },
  {
   "cell_type": "code",
   "execution_count": 27,
   "metadata": {},
   "outputs": [
    {
     "data": {
      "text/plain": [
       "2    0.394085\n",
       "3    0.180655\n",
       "4    0.085532\n",
       "5    0.060751\n",
       "6    0.032774\n",
       "Name: Count, dtype: float64"
      ]
     },
     "execution_count": 27,
     "metadata": {},
     "output_type": "execute_result"
    }
   ],
   "source": [
    "and_td_h_filt[\"Count\"].value_counts().iloc[:5]/len(and_td_h_filt) #ok"
   ]
  },
  {
   "cell_type": "code",
   "execution_count": 28,
   "metadata": {},
   "outputs": [
    {
     "data": {
      "text/plain": [
       "2    0.395939\n",
       "3    0.187817\n",
       "4    0.111675\n",
       "5    0.065990\n",
       "6    0.048223\n",
       "Name: Count, dtype: float64"
      ]
     },
     "execution_count": 28,
     "metadata": {},
     "output_type": "execute_result"
    }
   ],
   "source": [
    "and_td_l_filt[\"Count\"].value_counts().iloc[:5]/len(and_td_l_filt) #ok"
   ]
  },
  {
   "cell_type": "code",
   "execution_count": 29,
   "metadata": {},
   "outputs": [
    {
     "data": {
      "text/plain": [
       "2    0.45\n",
       "3    0.25\n",
       "4    0.15\n",
       "5    0.10\n",
       "6    0.05\n",
       "Name: Count, dtype: float64"
      ]
     },
     "execution_count": 29,
     "metadata": {},
     "output_type": "execute_result"
    }
   ],
   "source": [
    "and_td_n_filt[\"Count\"].value_counts().iloc[:5]/len(and_td_n_filt) #ok"
   ]
  },
  {
   "cell_type": "code",
   "execution_count": 30,
   "metadata": {},
   "outputs": [],
   "source": [
    "#Definition: Leave out words appearing only once, combine 2 and 3 in one category and \n",
    "# more than 3 in other\n"
   ]
  },
  {
   "cell_type": "code",
   "execution_count": 34,
   "metadata": {},
   "outputs": [
    {
     "data": {
      "text/plain": [
       "(array([1.814e+03, 1.500e+01, 3.000e+00, 3.000e+00, 2.000e+00, 1.000e+00,\n",
       "        1.000e+00, 1.000e+00, 0.000e+00, 1.000e+00]),\n",
       " array([  2. ,  72.8, 143.6, 214.4, 285.2, 356. , 426.8, 497.6, 568.4,\n",
       "        639.2, 710. ]),\n",
       " <BarContainer object of 10 artists>)"
      ]
     },
     "execution_count": 34,
     "metadata": {},
     "output_type": "execute_result"
    },
    {
     "data": {
      "image/png": "[encoded data removed]",
      "text/plain": [
       "<Figure size 432x288 with 1 Axes>"
      ]
     },
     "metadata": {
      "needs_background": "light"
     },
     "output_type": "display_data"
    }
   ],
   "source": [
    "import matplotlib.pyplot as plt  \n",
    "ax = plt.hist(and_td_a[\"Sum\"], log=True)\n",
    "#Add titles and axis names\n",
    "ax"
   ]
  },
  {
   "attachments": {},
   "cell_type": "markdown",
   "metadata": {},
   "source": [
    "### Remove aggregated columns after correlation"
   ]
  },
  {
   "cell_type": "code",
   "execution_count": 35,
   "metadata": {},
   "outputs": [],
   "source": [
    "#Function that returns a dataframe with correlations computed based on 2 datasets with\n",
    "#Columns group"
   ]
  },
  {
   "cell_type": "code",
   "execution_count": 59,
   "metadata": {},
   "outputs": [],
   "source": [
    "def compute_corr_by_group(df1,df2,manuscript):\n",
    "    #Expected TD matrices\n",
    "    list_dfs_by_group = []\n",
    "    groups = df1[\"Group\"].unique()\n",
    "    for group in groups:\n",
    "        df1_trans = df1[df1[\"Group\"]==group].drop([\"Group\",\"Sum\",\"Count\"],axis=1).T\n",
    "        df2_trans = df2[df2[\"Group\"]==group].drop([\"Group\",\"Sum\",\"Count\"],axis=1).T\n",
    "\n",
    "        df_corr = df1_trans.apply(df2_trans.corrwith)\n",
    "        df_corr = df_corr.unstack().sort_values(kind=\"quicksort\",ascending=False)\n",
    "        df_corr = df_corr.reset_index(drop=False)\n",
    "        df_corr.columns = [\"english\",\"latin\",\"corr\"]\n",
    "        df_corr = df_corr.drop_duplicates(subset=[\"english\"])\n",
    "        df_corr[\"group\"] = group\n",
    "        df_corr[\"manuscript\"] = manuscript\n",
    "\n",
    "        list_dfs_by_group.append(df_corr)\n",
    "    \n",
    "    return pd.concat(list_dfs_by_group)"
   ]
  },
  {
   "cell_type": "code",
   "execution_count": 60,
   "metadata": {},
   "outputs": [],
   "source": [
    "#Takes too long."
   ]
  },
  {
   "cell_type": "code",
   "execution_count": 79,
   "metadata": {},
   "outputs": [],
   "source": [
    "list_words = []\n",
    "for k,v in dict_td_matrices.items():\n",
    "    ang_td_matrix, lat_td_matrix = v\n",
    "    list_words.extend(ang_td_matrix.index)"
   ]
  },
  {
   "cell_type": "code",
   "execution_count": 81,
   "metadata": {},
   "outputs": [
    {
     "data": {
      "text/plain": [
       "7773"
      ]
     },
     "execution_count": 81,
     "metadata": {},
     "output_type": "execute_result"
    }
   ],
   "source": [
    "len(set(list_words))"
   ]
  },
  {
   "cell_type": "code",
   "execution_count": 76,
   "metadata": {},
   "outputs": [],
   "source": [
    "and_td_a, lat_td_a = dict_td_matrices[\"A\"]"
   ]
  },
  {
   "cell_type": "code",
   "execution_count": 67,
   "metadata": {},
   "outputs": [],
   "source": [
    "#Gotta do this first with N to ensure structure, then run the whole thing\n",
    "# Lasts 7 minutes with the longest\n",
    "\n",
    "df_corr_list = []\n",
    "\n",
    "for k,v in dict_td_matrices.items():\n",
    "    ang_td_matrix, lat_td_matrix = v\n",
    "    df_corr_list.append(compute_corr_by_group(ang_td_matrix,lat_td_matrix,k))\n"
   ]
  },
  {
   "cell_type": "code",
   "execution_count": 74,
   "metadata": {},
   "outputs": [],
   "source": [
    "#Export this result\n",
    "df_result = pd.concat(df_corr_list)\n",
    "df_result.to_excel(\"correlations.xlsx\",index=False)"
   ]
  }
 ],
 "metadata": {
  "kernelspec": {
   "display_name": "Python 3.9.15 ('cmptc-proj')",
   "language": "python",
   "name": "python3"
  },
  "language_info": {
   "codemirror_mode": {
    "name": "ipython",
    "version": 3
   },
   "file_extension": ".py",
   "mimetype": "text/x-python",
   "name": "python",
   "nbconvert_exporter": "python",
   "pygments_lexer": "ipython3",
   "version": "3.9.15"
  },
  "orig_nbformat": 4,
  "vscode": {
   "interpreter": {
    "hash": "a10a147f3fb2d9351807707eb2e679a95fdb0cf9aa4379fe03f45b7ce9bd3344"
   }
  }
 },
 "nbformat": 4,
 "nbformat_minor": 2
}
