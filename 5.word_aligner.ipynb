{
 "cells": [
  {
   "cell_type": "code",
   "execution_count": 7,
   "metadata": {},
   "outputs": [],
   "source": [
    "import os, systran_align"
   ]
  },
  {
   "cell_type": "code",
   "execution_count": 8,
   "metadata": {},
   "outputs": [],
   "source": [
    "def generate_probabilities():\n",
    "    systran_align.generate_alignment_probabilities(\n",
    "\t    input_path = 'data/allglosses.txt',\n",
    "\t    forward_probs_path = 'data/fwdprobs.txt',\n",
    "\t    backward_probs_path = 'data/bwdprobs.txt',\n",
    "\t    verbose = False,\n",
    "\t    iterations = 5,\n",
    "\t    favor_diagonal = False,\n",
    "\t    beam_threshold = -4,\n",
    "\t    diagonal_tension = 4,\n",
    "\t    optimize_tension = False,\n",
    "\t    variational_bayes = False,\n",
    "\t    alpha = 0.01,\n",
    "\t    no_null_word = False,\n",
    "\t    prob_align_null = 0.08,\n",
    "\t    thread_buffer_size = 10000,\n",
    "\t)"
   ]
  },
  {
   "cell_type": "code",
   "execution_count": 9,
   "metadata": {},
   "outputs": [],
   "source": [
    "if os.path.exists('word_alignment/bwdprobs.txt') == False:\n",
    "    generate_probabilities()\n",
    "\n",
    "aligner = systran_align.Aligner(\n",
    "    forward_probs_path = 'data/fwdprobs.txt',\n",
    "    backward_probs_path = 'data/bwdprobs.txt',\n",
    ")"
   ]
  },
  {
   "cell_type": "code",
   "execution_count": 10,
   "metadata": {},
   "outputs": [],
   "source": [
    "latin = 'cui si fortasse mater quae hunc genuit solem lunam stellas montes et campos uolantes aues currentes equos nominet ille uero qui est in carcere natus et nutritus nihil aliud quam tenebras carceris sciat et haec quidem esse audiat sed quia ea per experimentum non nouit ueraciter esse diffidat'.split()\n",
    "oe = 'ðeah þe his modor him secge ðæt heo gesauwe sunnon and monan and steorran and streamas muntas and feldas fleotende fixas and fleogende fugulas and yrnende hors wyrmas and wilddeor and eall þæt we geseoð ic wat þæt hine wile tweogan hwæðer heo him soð secge'.split()\n",
    "result = aligner.align(source=latin, target=oe)"
   ]
  },
  {
   "cell_type": "code",
   "execution_count": null,
   "metadata": {},
   "outputs": [],
   "source": [
    "## Add compatible lemmatizer\n"
   ]
  },
  {
   "cell_type": "code",
   "execution_count": 12,
   "metadata": {},
   "outputs": [
    {
     "name": "stdout",
     "output_type": "stream",
     "text": [
      "mater : modor\n",
      "quae : him\n",
      "lunam : monan\n",
      "stellas : steorran\n",
      "montes : muntas\n",
      "equos : hors\n",
      "uero : ðeah\n",
      "qui : þe\n",
      "est : heo\n",
      "quam : ðæt\n",
      "tenebras : wilddeor\n",
      "quidem : soð\n",
      "esse : we\n",
      "non : ic\n",
      "nouit : wat\n",
      "esse : him\n"
     ]
    }
   ],
   "source": [
    "for (k,v) in result['alignments']:\n",
    "    print(latin[k] + ' : ' + oe[v])"
   ]
  },
  {
   "cell_type": "code",
   "execution_count": 11,
   "metadata": {},
   "outputs": [
    {
     "name": "stdout",
     "output_type": "stream",
     "text": [
      "[(3, 3), (4, 4), (8, 11), (9, 13), (10, 16), (16, 26), (19, 0), (20, 1), (21, 7), (29, 6), (30, 29), (35, 44), (36, 33), (43, 35), (44, 36), (46, 43)]\n"
     ]
    }
   ],
   "source": [
    "print(result['alignments'])"
   ]
  }
 ],
 "metadata": {
  "kernelspec": {
   "display_name": "cmptc-proj",
   "language": "python",
   "name": "python3"
  },
  "language_info": {
   "codemirror_mode": {
    "name": "ipython",
    "version": 3
   },
   "file_extension": ".py",
   "mimetype": "text/x-python",
   "name": "python",
   "nbconvert_exporter": "python",
   "pygments_lexer": "ipython3",
   "version": "3.9.15"
  },
  "orig_nbformat": 4
 },
 "nbformat": 4,
 "nbformat_minor": 2
}
