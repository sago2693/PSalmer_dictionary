{
 "cells": [
  {
   "cell_type": "code",
   "execution_count": 50,
   "metadata": {},
   "outputs": [],
   "source": [
    "import os,glob\n",
    "import pandas as pd\n",
    "import nltk\n",
    "import numpy as np\n",
    "from langdetect import detect\n",
    "from sklearn.feature_extraction.text import CountVectorizer\n",
    "import matplotlib.pyplot as plt\n",
    "import seaborn as sns\n"
   ]
  },
  {
   "cell_type": "markdown",
   "metadata": {},
   "source": [
    "#### Load manuscripts without filtering"
   ]
  },
  {
   "cell_type": "code",
   "execution_count": 2,
   "metadata": {},
   "outputs": [],
   "source": [
    "original_files = {}\n",
    "for i in glob.glob('data/raw/*txt'):\n",
    "    doc = open(i).read().splitlines()\n",
    "    original_files[i[-5]] = doc"
   ]
  },
  {
   "cell_type": "code",
   "execution_count": 5,
   "metadata": {},
   "outputs": [
    {
     "data": {
      "text/plain": [
       "['1.2 || Ac on æ drihtnes his willa & on his æ he smeaþ ł foreþenceþ dæges & nihtes || Sed in lege domini uoluntas eius et in lege eius meditabitur die ac nocte.',\n",
       " '1.3 || & he bið swaswa treow þe geplantod is ł þæt ðe geset is wið rynas wætera þæt þe westm his selð ł forgifð on his tide & leaf his ne tofleuwð & ealle þingc swa hwæt swa he deð beoð gespedde ł beoð gesundfullode || Et erit tamquam lignum quod plantatum est secus decursus aquarum quod fructum suum dabit in tempore suo Et folium eius non defluet et omnia quęcumque faciet prosperabuntur.']"
      ]
     },
     "execution_count": 5,
     "metadata": {},
     "output_type": "execute_result"
    }
   ],
   "source": [
    "original_files[\"I\"][:2]"
   ]
  },
  {
   "cell_type": "markdown",
   "metadata": {},
   "source": [
    "### Does old english have punctuation for sentence separation?"
   ]
  },
  {
   "cell_type": "markdown",
   "metadata": {},
   "source": [
    "### Check max length of split by || separator"
   ]
  },
  {
   "cell_type": "code",
   "execution_count": 10,
   "metadata": {},
   "outputs": [
    {
     "name": "stdout",
     "output_type": "stream",
     "text": [
      "17.50 || Forðon ic andette þe on folcum drihten & naman þinum sealm ic.\n",
      "118.164 || Seofon siðum on dæge lof ic cwæð to ðe ofer domas þinre ryhtwisnesse.\n",
      "min value 2 max_value 5\n"
     ]
    }
   ],
   "source": [
    "min_val = 10\n",
    "max_val = 0\n",
    "for k,v in original_files.items():\n",
    "    for sentence in v:\n",
    "        splitted_sentence_length = len(sentence.split(\"||\"))\n",
    "        if splitted_sentence_length==2:\n",
    "            print(sentence)\n",
    "        if splitted_sentence_length>max_val:\n",
    "            max_val = splitted_sentence_length\n",
    "        if splitted_sentence_length<min_val:\n",
    "            min_val = splitted_sentence_length\n",
    "\n",
    "print(\"min value\",min_val,\"max_value\",max_val)"
   ]
  },
  {
   "cell_type": "markdown",
   "metadata": {},
   "source": [
    "### Store the data in 5 lists in the format: key in the first column, detected language in the others"
   ]
  },
  {
   "cell_type": "code",
   "execution_count": 11,
   "metadata": {},
   "outputs": [],
   "source": [
    "first_col = []\n",
    "second_col = []\n",
    "third_col = []\n",
    "fourth_col = []\n",
    "fifth_col = []"
   ]
  },
  {
   "cell_type": "code",
   "execution_count": 12,
   "metadata": {},
   "outputs": [],
   "source": [
    "#Long running time! Don't run again\n",
    "#Separate all the sentences in five columns.\n",
    "#Returns Language detected for each sentence in the verse\n",
    "for k,v in original_files.items():\n",
    "    #Loop through all the verses in a manuscript\n",
    "    for sentence in v:\n",
    "        splitted_sentence = sentence.split(\"||\")\n",
    "        splitted_sentence_stripped = [x.strip() for x in splitted_sentence]\n",
    "        lengths_splitted_segments = [len(x) for x in splitted_sentence_stripped]\n",
    "        if min(lengths_splitted_segments)<2:\n",
    "            continue\n",
    "\n",
    "        for index, segment in enumerate(splitted_sentence):\n",
    "            if index==0:\n",
    "                first_col.append(segment)\n",
    "            elif index==1:\n",
    "                second_col.append(detect(segment))\n",
    "            elif index==2:\n",
    "                third_col.append(detect(segment))\n",
    "            elif index==3:\n",
    "                fourth_col.append(detect(segment))\n",
    "            else:\n",
    "                fifth_col.append(detect(segment))"
   ]
  },
  {
   "cell_type": "markdown",
   "metadata": {},
   "source": [
    "## Compare with this\n",
    "https://en.wikipedia.org/wiki/List_of_ISO_639-1_codes"
   ]
  },
  {
   "cell_type": "code",
   "execution_count": 45,
   "metadata": {},
   "outputs": [],
   "source": [
    "from language_codes import languages\n",
    "iso639_dict = dict(languages)\n",
    "\n",
    "def map_language(dict):\n",
    "\n",
    "    \"\"\"Returns a dictionary\n",
    "\n",
    "    Modern Language identification \n",
    "    \"\"\"\n",
    "    mapped_list = []\n",
    "    for k,v in dict.items():\n",
    "        mapped_list.append(iso639_dict[k])\n",
    "\n",
    "    return mapped_list\n",
    "\n",
    "second_col_lang_name = [iso639_dict[k] for k in second_col]\n",
    "third_col_lang_name = [iso639_dict[k] for k in third_col]\n",
    "fourth_col_lang_name = [iso639_dict[k] for k in fourth_col]\n",
    "fifth_col_lang_name = [iso639_dict[k] for k in fifth_col]"
   ]
  },
  {
   "cell_type": "code",
   "execution_count": 108,
   "metadata": {},
   "outputs": [],
   "source": [
    "\n",
    "def create_horz_hist (value_list,threshold,title):\n",
    "    df_langs = pd.DataFrame({\"col\":value_list,\"count\":1})\n",
    "    df_langs[\"group_count\"] = df_langs.groupby(['col'])['col'].transform('count')\n",
    "    df_langs[\"language\"] = df_langs.apply(lambda row: row[\"col\"] if row[\"group_count\"]>threshold else \"Other\",axis=1 )\n",
    "    df_langs.sort_values(by=[\"group_count\"],ascending=False,inplace=True)\n",
    "    ax = sns.histplot(data = df_langs, \n",
    "    y=\"language\").set(title=title)\n",
    "    return ax"
   ]
  },
  {
   "cell_type": "code",
   "execution_count": 109,
   "metadata": {},
   "outputs": [
    {
     "data": {
      "text/plain": [
       "[Text(0.5, 1.0, 'Languages second column')]"
      ]
     },
     "execution_count": 109,
     "metadata": {},
     "output_type": "execute_result"
    },
    {
     "data": {
      "image/png": "[encoded data removed]",
      "text/plain": [
       "<Figure size 432x288 with 1 Axes>"
      ]
     },
     "metadata": {
      "needs_background": "light"
     },
     "output_type": "display_data"
    }
   ],
   "source": [
    "ax2 = create_horz_hist(second_col_lang_name,200,\"Languages second column\")\n",
    "ax2"
   ]
  },
  {
   "cell_type": "code",
   "execution_count": 114,
   "metadata": {},
   "outputs": [
    {
     "data": {
      "text/plain": [
       "[Text(0.5, 1.0, 'Languages third column')]"
      ]
     },
     "execution_count": 114,
     "metadata": {},
     "output_type": "execute_result"
    },
    {
     "data": {
      "image/png": "[encoded data removed]",
      "text/plain": [
       "<Figure size 432x288 with 1 Axes>"
      ]
     },
     "metadata": {
      "needs_background": "light"
     },
     "output_type": "display_data"
    }
   ],
   "source": [
    "ax3 = create_horz_hist(third_col_lang_name,150,\"Languages third column\")\n",
    "ax3"
   ]
  },
  {
   "cell_type": "code",
   "execution_count": 116,
   "metadata": {},
   "outputs": [
    {
     "data": {
      "text/plain": [
       "[Text(0.5, 1.0, 'Languages fourth column')]"
      ]
     },
     "execution_count": 116,
     "metadata": {},
     "output_type": "execute_result"
    },
    {
     "data": {
      "image/png": "[encoded data removed]",
      "text/plain": [
       "<Figure size 432x288 with 1 Axes>"
      ]
     },
     "metadata": {
      "needs_background": "light"
     },
     "output_type": "display_data"
    }
   ],
   "source": [
    "ax4 = create_horz_hist(fourth_col_lang_name,0,\"Languages fourth column\")\n",
    "ax4"
   ]
  },
  {
   "cell_type": "code",
   "execution_count": 118,
   "metadata": {},
   "outputs": [
    {
     "data": {
      "text/plain": [
       "[Text(0.5, 1.0, 'Languages fifth column')]"
      ]
     },
     "execution_count": 118,
     "metadata": {},
     "output_type": "execute_result"
    },
    {
     "data": {
      "image/png": "[encoded data removed]",
      "text/plain": [
       "<Figure size 432x288 with 1 Axes>"
      ]
     },
     "metadata": {
      "needs_background": "light"
     },
     "output_type": "display_data"
    }
   ],
   "source": [
    "ax5 = create_horz_hist(fifth_col_lang_name,0,\"Languages fifth column\")\n",
    "ax5"
   ]
  }
 ],
 "metadata": {
  "kernelspec": {
   "display_name": "Python 3.9.15 ('cmptc-proj')",
   "language": "python",
   "name": "python3"
  },
  "language_info": {
   "codemirror_mode": {
    "name": "ipython",
    "version": 3
   },
   "file_extension": ".py",
   "mimetype": "text/x-python",
   "name": "python",
   "nbconvert_exporter": "python",
   "pygments_lexer": "ipython3",
   "version": "3.9.15 (main, Nov 24 2022, 14:31:59) \n[GCC 11.2.0]"
  },
  "orig_nbformat": 4,
  "vscode": {
   "interpreter": {
    "hash": "a10a147f3fb2d9351807707eb2e679a95fdb0cf9aa4379fe03f45b7ce9bd3344"
   }
  }
 },
 "nbformat": 4,
 "nbformat_minor": 2
}
